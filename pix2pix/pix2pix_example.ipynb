{
  "nbformat": 4,
  "nbformat_minor": 0,
  "metadata": {
    "colab": {
      "name": "pix2pix_project.ipynb",
      "provenance": [],
      "collapsed_sections": [],
      "toc_visible": true
    },
    "kernelspec": {
      "name": "python3",
      "display_name": "Python 3"
    },
    "language_info": {
      "name": "python"
    },
    "accelerator": "GPU"
  },
  "cells": [
    {
      "cell_type": "markdown",
      "metadata": {
        "id": "61UWwGczxmJX"
      },
      "source": [
        "### Обучение pix2pix с нуля на датасете facades (из статьи)\n",
        "\n"
      ]
    },
    {
      "cell_type": "code",
      "metadata": {
        "id": "DphVIbD0ySAx"
      },
      "source": [
        "!rm -rf /content/sample_data\n",
        "!rm -rf .config\n",
        "!git clone https://github.com/jys1670/pix2pix_DLS /content"
      ],
      "execution_count": null,
      "outputs": []
    },
    {
      "cell_type": "code",
      "metadata": {
        "id": "XYjptq6aQm0t"
      },
      "source": [
        "!python train.py"
      ],
      "execution_count": null,
      "outputs": []
    },
    {
      "cell_type": "markdown",
      "metadata": {
        "id": "8FN1wai7ytW_"
      },
      "source": [
        "Использование генератора на произвольных изображениях:"
      ]
    },
    {
      "cell_type": "code",
      "metadata": {
        "id": "tyeQjIOIzoAd"
      },
      "source": [
        "!mkdir -p output/facades/results/mask_only"
      ],
      "execution_count": null,
      "outputs": []
    },
    {
      "cell_type": "code",
      "metadata": {
        "id": "JkC5TbalSlFg"
      },
      "source": [
        "!python generate.py configs/default_config.py dataset/facades/mask_only output/facades/results/mask_only"
      ],
      "execution_count": null,
      "outputs": []
    },
    {
      "cell_type": "markdown",
      "metadata": {
        "id": "2K2wPAWhy-m1"
      },
      "source": [
        "### Обучение pix2pix с нуля на самодельном аниме датасете"
      ]
    },
    {
      "cell_type": "code",
      "metadata": {
        "id": "VQzq7rqaykVR"
      },
      "source": [
        "!python train.py -c configs/anime_monster.py"
      ],
      "execution_count": null,
      "outputs": []
    },
    {
      "cell_type": "markdown",
      "metadata": {
        "id": "125ZtR_jzrUx"
      },
      "source": [
        "Использование генератора на соотв. манге:"
      ]
    },
    {
      "cell_type": "code",
      "metadata": {
        "id": "rUEjpObSzwcz"
      },
      "source": [
        "!mkdir -p output/anime_monster/results/manga/original\n",
        "!python generate.py configs/anime_monster.py dataset/anime_monster/manga/original output/anime_monster/results/manga/original"
      ],
      "execution_count": null,
      "outputs": []
    },
    {
      "cell_type": "code",
      "metadata": {
        "id": "ys9plU9qRV3E"
      },
      "source": [
        "!mkdir -p output/anime_monster/results/manga/sketch\n",
        "!python generate.py configs/anime_monster.py dataset/anime_monster/manga/sketch output/anime_monster/results/manga/sketch"
      ],
      "execution_count": null,
      "outputs": []
    },
    {
      "cell_type": "markdown",
      "metadata": {
        "id": "wEfOxuyNf72Q"
      },
      "source": [
        "### Сохранить весь output"
      ]
    },
    {
      "cell_type": "code",
      "metadata": {
        "id": "__8cYSOqgBoI"
      },
      "source": [
        "!tar czf output.tar.gz output"
      ],
      "execution_count": null,
      "outputs": []
    },
    {
      "cell_type": "markdown",
      "metadata": {
        "id": "xu-ru9fq2AWw"
      },
      "source": [
        "### Восстановить весь output"
      ]
    },
    {
      "cell_type": "code",
      "metadata": {
        "id": "SqsLaox82D8N"
      },
      "source": [
        "!gdown -O /content/output.tar.gz https://drive.google.com/uc?id=1-5ZFOdCRgfoZZpmh2Dm73nA0k4eV5MK7"
      ],
      "execution_count": null,
      "outputs": []
    },
    {
      "cell_type": "code",
      "metadata": {
        "id": "IJIXxUlJ2ZCO"
      },
      "source": [
        "!tar -xvzf output.tar.gz"
      ],
      "execution_count": null,
      "outputs": []
    },
    {
      "cell_type": "markdown",
      "metadata": {
        "id": "_2YDl1N-27_K"
      },
      "source": [
        "Удалить все, кроме весов:"
      ]
    },
    {
      "cell_type": "code",
      "metadata": {
        "id": "1BIqKAHH2-Cy"
      },
      "source": [
        "!rm -rf /content/output/anime_monster/results\n",
        "!rm -rf /content/output/facades/results"
      ],
      "execution_count": null,
      "outputs": []
    },
    {
      "cell_type": "markdown",
      "metadata": {
        "id": "rmMyNx75z3Q7"
      },
      "source": [
        "### Как делался аниме датасет"
      ]
    },
    {
      "cell_type": "code",
      "metadata": {
        "id": "EHbBLQUU0GnY"
      },
      "source": [
        "# Серии\n",
        "!cp /content/drive/MyDrive/videos.zip .\n",
        "# Манга\n",
        "!cp /content/drive/MyDrive/manga_parts.zip ."
      ],
      "execution_count": null,
      "outputs": []
    },
    {
      "cell_type": "code",
      "metadata": {
        "id": "mw9w8oqkhnra"
      },
      "source": [
        "!mkdir -p /content/dataset/anime_monster/original\n",
        "!mkdir /content/dataset/anime_monster/sketch\n",
        "!mkdir -p /content/dataset/anime_monster/manga/original\n",
        "!mkdir -p /content/dataset/anime_monster/manga/sketch\n",
        "!mkdir /content/videos"
      ],
      "execution_count": null,
      "outputs": []
    },
    {
      "cell_type": "code",
      "metadata": {
        "id": "3gIqDaAuKwis"
      },
      "source": [
        "!unzip manga_parts.zip -d /content/dataset/anime_monster/manga/original\n",
        "!unzip videos.zip -d /content/videos"
      ],
      "execution_count": null,
      "outputs": []
    },
    {
      "cell_type": "markdown",
      "metadata": {
        "id": "tZtAb6MbKnhJ"
      },
      "source": [
        "Извлечем кадры из серий:"
      ]
    },
    {
      "cell_type": "code",
      "metadata": {
        "id": "UTBnaza4H5Hn"
      },
      "source": [
        "import os\n",
        "import subprocess\n",
        "\n",
        "for root, dirs, files in os.walk(\"/content/videos\"):\n",
        "    for f in files:\n",
        "        fpath = str(os.path.join(root, f))\n",
        "        fname = f.split(\".\")[0]\n",
        "        command = (\n",
        "            \"ffmpeg -i \"\n",
        "            + fpath\n",
        "            + ' -ss 00:06:00.000 -to 00:21:00.000 -r 1 -filter:v \"crop=480:480, scale=512:512\" \"/content/dataset/anime_monster/original/'\n",
        "            + fname\n",
        "            + '_%d.bmp\"'\n",
        "        )\n",
        "        print(\" ++++++++++++ FILE\", f)\n",
        "        p = subprocess.Popen(\n",
        "            command, shell=True, stdout=subprocess.PIPE, stderr=subprocess.STDOUT\n",
        "        )\n",
        "        print(p.communicate()[0].decode(\"ascii\"), end=\"\")\n"
      ],
      "execution_count": null,
      "outputs": []
    },
    {
      "cell_type": "markdown",
      "metadata": {
        "id": "oCZCHD9F15bz"
      },
      "source": [
        "Теперь надо превратить кадры в зарисовки, чтоб они хоть как-то напоминали стиль манги. Для этих целей используем Anime2Sketch. Скачаем предобученную модель:"
      ]
    },
    {
      "cell_type": "code",
      "metadata": {
        "id": "S2YV_0SvXKj4"
      },
      "source": [
        "!git clone https://github.com/Mukosame/Anime2Sketch\n",
        "!gdown -O /content/Anime2Sketch/weights/netG.pth https://drive.google.com/uc?id=1RILKwUdjjBBngB17JHwhZNBEaW4Mr-Ml"
      ],
      "execution_count": null,
      "outputs": []
    },
    {
      "cell_type": "code",
      "metadata": {
        "id": "6YIyctqgZM2h"
      },
      "source": [
        "%cd /content/Anime2Sketch\n",
        "!pip install -r requirements.txt"
      ],
      "execution_count": null,
      "outputs": []
    },
    {
      "cell_type": "markdown",
      "metadata": {
        "id": "I1xNRUt3LR6Y"
      },
      "source": [
        "Запустим процесс превращения исходных картинок в зарисовки:"
      ]
    },
    {
      "cell_type": "code",
      "metadata": {
        "id": "5t5qzvd-XhP0"
      },
      "source": [
        "# В data.py есть ошибка\n",
        "!python3 test.py --dataroot /content/dataset/anime_monster/original --load_size 512 --output_dir /content/dataset/anime_monster/sketch -g 0"
      ],
      "execution_count": null,
      "outputs": []
    },
    {
      "cell_type": "markdown",
      "metadata": {
        "id": "0MBEi4Z-LUfY"
      },
      "source": [
        "Аналогично для манги (на всякий случай):"
      ]
    },
    {
      "cell_type": "code",
      "metadata": {
        "id": "ouGk8W4ELXLr"
      },
      "source": [
        "!python3 test.py --dataroot /content/dataset/anime_monster/manga/original --load_size 512 --output_dir /content/dataset/anime_monster/manga/sketch -g 0"
      ],
      "execution_count": null,
      "outputs": []
    },
    {
      "cell_type": "code",
      "metadata": {
        "id": "GYdIt_PAmvLJ"
      },
      "source": [
        "%cd /content"
      ],
      "execution_count": null,
      "outputs": []
    },
    {
      "cell_type": "code",
      "metadata": {
        "id": "0xq-z3kVMFh4"
      },
      "source": [
        "!tar czf anime_monster_dataset.tar.gz ./dataset/anime_monster"
      ],
      "execution_count": null,
      "outputs": []
    }
  ]
}